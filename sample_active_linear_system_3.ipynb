{
 "cells": [
  {
   "cell_type": "code",
   "execution_count": 1,
   "metadata": {
    "collapsed": false
   },
   "outputs": [
    {
     "name": "stdout",
     "output_type": "stream",
     "text": [
      "Populating the interactive namespace from numpy and matplotlib\n"
     ]
    }
   ],
   "source": [
    "import numpy\n",
    "from numpy import linalg as la\n",
    "\n",
    "import sympy\n",
    "from sympy import init_printing\n",
    "init_printing()\n",
    "\n",
    "import matplotlib.pyplot as plt\n",
    "%pylab inline"
   ]
  },
  {
   "cell_type": "code",
   "execution_count": 2,
   "metadata": {
    "collapsed": false
   },
   "outputs": [],
   "source": [
    "## We use some functions from https://github.com/tabakg/potapov_interpolation\n",
    "\n",
    "import sys\n",
    "P_dir = '/Users/gil/Google Drive/repos/potapov/potapov_interpolation/Potapov_Code/'\n",
    "sys.path.append(P_dir)\n",
    "import Roots\n",
    "from Potapov import get_Potapov_vecs\n",
    "from functions import der\n",
    "from functions import limit"
   ]
  },
  {
   "cell_type": "markdown",
   "metadata": {},
   "source": [
    "## Symbols we will use for the construction."
   ]
  },
  {
   "cell_type": "code",
   "execution_count": 3,
   "metadata": {
    "collapsed": true
   },
   "outputs": [],
   "source": [
    "r, kappa, eps, z = sympy.symbols('r kappa epsilon z')"
   ]
  },
  {
   "cell_type": "markdown",
   "metadata": {},
   "source": [
    "## Functions we will use"
   ]
  },
  {
   "cell_type": "code",
   "execution_count": 4,
   "metadata": {
    "collapsed": true
   },
   "outputs": [],
   "source": [
    "def double_up(P, M, second_row_minus = False):\n",
    "    \"\"\"\n",
    "    Generate a 'doubled-up' version of the positive (P) and negative (M) matrices.\n",
    "    \"\"\"\n",
    "    r1 = M.col_join(P)\n",
    "    r2 = (P.conjugate()).col_join(M.conjugate())\n",
    "    if second_row_minus:\n",
    "        r2 *= -1\n",
    "    return r1.row_join(r2)"
   ]
  },
  {
   "cell_type": "code",
   "execution_count": 5,
   "metadata": {
    "collapsed": true
   },
   "outputs": [],
   "source": [
    "def J(n):\n",
    "    \"\"\"\n",
    "    Generate the signature matrix of half-dimension n.\n",
    "    \n",
    "    I.e. J = [[I_n, 0],\n",
    "              [0, -I_n]]\n",
    "    \"\"\"\n",
    "    r1 = sympy.eye(n).col_join(sympy.zeros(n))\n",
    "    r2 = sympy.zeros(n).col_join(-sympy.eye(n))\n",
    "    return r1.row_join(r2)"
   ]
  },
  {
   "cell_type": "code",
   "execution_count": 6,
   "metadata": {
    "collapsed": true
   },
   "outputs": [],
   "source": [
    "def flat(M):\n",
    "    \"\"\"\n",
    "    return J M^\\dag J for the appropriate dimension of J.\n",
    "    \"\"\"\n",
    "    m,n = M.shape\n",
    "    if m%2 != 0 or n%2 != 0:\n",
    "        raise ValueError(\"dimensions of matrix should be even.\")\n",
    "    return J(n/2)*M.H*J(m/2)"
   ]
  },
  {
   "cell_type": "code",
   "execution_count": 7,
   "metadata": {
    "collapsed": true
   },
   "outputs": [],
   "source": [
    "def make_ABCD(S, Phi, Omega):\n",
    "    \"\"\"\n",
    "    Generate the ABCD matrices from the S, Phi, and Omega\n",
    "    \"\"\"\n",
    "    D = double_up(sympy.zeros(S.shape[0]),S)\n",
    "    B = -flat(Phi)*D\n",
    "    A = -0.5*flat(Phi)*Phi - 1j*Omega\n",
    "    C = Phi\n",
    "    return A, B, C, D\n",
    "\n",
    "\n",
    "def make_T(A, B, C, D):\n",
    "    \"\"\"\n",
    "    Make the transfer function using the ABCD matrices.\n",
    "    \"\"\"\n",
    "    IA = sympy.eye(A.shape[0])\n",
    "    T_z = D + C*(z*IA - A).inv()*B\n",
    "    return T_z"
   ]
  },
  {
   "cell_type": "markdown",
   "metadata": {},
   "source": [
    "### Factorization-specific functions"
   ]
  },
  {
   "cell_type": "code",
   "execution_count": 8,
   "metadata": {
    "collapsed": true
   },
   "outputs": [],
   "source": [
    "def scale_vector_doubled_up(v):\n",
    "    \"\"\"Given a vector v, attempt to scale it so that \n",
    "    it has doubled-up form, u = Sigma*u^\\#.\n",
    "    \n",
    "    Raises: ValueError\n",
    "    \"\"\"\n",
    "    sub_sigma = numpy.diag([1]*(v.shape[0]/2))\n",
    "    M = v.shape[0]/2\n",
    "    Sigma = numpy.vstack((\n",
    "                numpy.hstack((np.zeros((M,M)),sub_sigma)),\n",
    "                numpy.hstack((sub_sigma,np.zeros((M,M))))\n",
    "            ))\n",
    "    angles = np.angle((Sigma*v).conj() / v)\n",
    "    pos_angles = [a if a > 0 else a+2*numpy.pi for a in angles]\n",
    "    u = v*numpy.exp(0.5j*pos_angles[0])\n",
    "    if la.norm(u - Sigma*u.conj()) > 1e-5:\n",
    "        raise ValueError(\"Vector cannot be scaled to doubled-up form.\")\n",
    "    return u\n",
    "\n",
    "def real_scaling(v1, v2):\n",
    "    \"\"\"\n",
    "    Scale the two vectors v1 and v2 appropriately, granted they \n",
    "    correspond to two real poles.\n",
    "    \"\"\"\n",
    "    M = v1.shape[0]/2\n",
    "    Jv = numpy.matrix(numpy.diag([1 for i in range(M)]+[-1 for i in range(M)]))\n",
    "    N = v1.H*Jv*v2\n",
    "    u1 = v1 / la.norm(numpy.sqrt(2*N))\n",
    "    u2 = v2 / la.norm(numpy.sqrt(2*N))\n",
    "    return u1, u2"
   ]
  },
  {
   "cell_type": "code",
   "execution_count": 9,
   "metadata": {
    "collapsed": true
   },
   "outputs": [],
   "source": [
    "def make_Sigma(M):\n",
    "    \"\"\"\n",
    "    Generate the permutation matrix Sigma of half-dimension M.\n",
    "    \n",
    "    I.e. Sigma = [[0, I_M],\n",
    "                  [I_M, 0]]\n",
    "    \"\"\"\n",
    "    sub_sigma = numpy.diag([1]*M)\n",
    "    Sigma = numpy.vstack((\n",
    "                numpy.hstack((np.zeros((M,M)),sub_sigma)),\n",
    "                numpy.hstack((sub_sigma,np.zeros((M,M))))\n",
    "            ))\n",
    "    return Sigma"
   ]
  },
  {
   "cell_type": "code",
   "execution_count": 10,
   "metadata": {
    "collapsed": false
   },
   "outputs": [],
   "source": [
    "def check_J_unitary(T, z, eps = 1e-5):\n",
    "    \"\"\"\n",
    "    Check if the transfer function T is J-unitary at z.\n",
    "    \"\"\"\n",
    "    T_mat1 = numpy.matrix(T(z))\n",
    "    T_mat2 = numpy.matrix(T(-numpy.conj(z)))\n",
    "    d = T_mat1.shape[0]/2\n",
    "    Jv = numpy.matrix(numpy.diag([1 for i in range(d)]+[-1 for i in range(d)]))\n",
    "    return la.norm(T_mat1*Jv*T_mat2.H - Jv) < eps"
   ]
  },
  {
   "cell_type": "code",
   "execution_count": 11,
   "metadata": {
    "collapsed": true
   },
   "outputs": [],
   "source": [
    "def check_doubled_up_func(T, z, eps = 1e-5):\n",
    "    \"\"\"\n",
    "    Check if the transfer function T is doubled-up at z.\n",
    "    \"\"\"\n",
    "    T_mat = numpy.matrix(T(z))\n",
    "    dim = T_mat.shape[0]/2\n",
    "    Sigma = make_Sigma(dim)\n",
    "    \n",
    "\n",
    "    return la.norm(Sigma * T(numpy.conj(z)).H * Sigma - T(z)) < eps"
   ]
  },
  {
   "cell_type": "code",
   "execution_count": 12,
   "metadata": {
    "collapsed": true
   },
   "outputs": [],
   "source": [
    "def check_doubled_up_mat(M, eps = 1e-5):\n",
    "    \"\"\"\n",
    "    Check if the transfer function T is doubled-up at z.\n",
    "    \"\"\"\n",
    "    d1, d2 = M.shape[0]/2, M.shape[1]/2\n",
    "    Sigma1 = make_Sigma(d1)\n",
    "    Sigma2 = make_Sigma(d2)\n",
    "\n",
    "    return la.norm( (Sigma1 * M * Sigma2).conj() - M) < eps"
   ]
  },
  {
   "cell_type": "code",
   "execution_count": 13,
   "metadata": {
    "collapsed": true
   },
   "outputs": [],
   "source": [
    "def purge(lst, eps=1e-5):\n",
    "    \"\"\"\n",
    "    Gets rid of redundant elements up to error eps.\n",
    "    \"\"\"\n",
    "    if len(lst) <= 1:\n",
    "        return lst\n",
    "\n",
    "    new_lst = []\n",
    "    for lst_i in lst:\n",
    "        if all([abs(el - lst_i) > eps \n",
    "                for el in new_lst]):\n",
    "            new_lst.append(lst_i)\n",
    "    return new_lst"
   ]
  },
  {
   "cell_type": "code",
   "execution_count": 161,
   "metadata": {
    "collapsed": true
   },
   "outputs": [],
   "source": [
    "def complex_prod_deg(z, poles, vecs, dim, eps=1e-3):\n",
    "    \"\"\"\n",
    "    Generate a complex product given complex poles and vectors,\n",
    "    and evaluate at $z$.\n",
    "    \n",
    "    In the example, the complex eigenvectors were all degenerate,\n",
    "    so we perturb the first component by $\\eps$. In this case we\n",
    "    actually need two terms to approximate the degenerate space.\n",
    "    \"\"\"\n",
    "    M = dim/2\n",
    "    R = numpy.matrix(numpy.eye(dim))\n",
    "    J1 = numpy.matrix(numpy.diag([1, -1]))\n",
    "    Jv = numpy.matrix(numpy.diag([1 for i in range(M)]+[-1 for i in range(M)]))\n",
    "    sub_sigma = numpy.diag([1]*M)\n",
    "    Sigma = numpy.vstack((\n",
    "                numpy.hstack((np.zeros((M,M)),sub_sigma)),\n",
    "                numpy.hstack((sub_sigma,np.zeros((M,M))))\n",
    "            ))\n",
    "    for p, eig in zip(poles, vecs):\n",
    "        v1, val = eig\n",
    "        \n",
    "        v1[0,0] += eps\n",
    "\n",
    "        v1 = v1 / numpy.sqrt(v1.H*J1*v1)\n",
    "        if v1.H*J1*v1 > 0:\n",
    "            V1 = numpy.hstack([v1, Sigma*v1.conj()])\n",
    "        else: ## flipping v and \\Sigma *v^# changes the normalization sign\n",
    "            V1 = numpy.hstack([Sigma*v1.conj(), v1])\n",
    "        V1_flat = J1*V1.H*Jv   \n",
    "\n",
    "        F1 = numpy.matrix([[(z+p.conj())/(z-p),0],\n",
    "                            [0,(z+p)/(z-p.conj())]])\n",
    "\n",
    "        F2 = numpy.matrix([[(z+p)/(z-p.conj()),0],\n",
    "                           [0,(z+p.conj())/(z-p)]])\n",
    "        \n",
    "        I = numpy.matrix(numpy.eye(2))\n",
    "        R = R * (I -V1*V1_flat+ V1*F1*V1_flat)*(I -V1*V1_flat+ V1*F2*V1_flat)\n",
    "    return R\n",
    "\n",
    "def factorize_complex_poles(poles, T_tilde):\n",
    "    \"\"\"\n",
    "    Find the vectors at a given list of complex poles.\n",
    "    \"\"\"\n",
    "    dim = T_tilde(0).shape[0]\n",
    "    found_vecs = []\n",
    "    for p in poles:\n",
    "\n",
    "        R = complex_prod_deg(p, poles, found_vecs, dim)\n",
    "\n",
    "        L = la.inv(R)*limit(lambda z: (z-p)*T_tilde(z),p)\n",
    "        [eigvals,eigvecs] = la.eig(L)\n",
    "        index = np.argmax(map(abs,eigvals))\n",
    "        big_vec = np.asmatrix(eigvecs[:,index])\n",
    "        big_val = eigvals[index]\n",
    "        found_vecs.append((big_vec,big_val))\n",
    "    return found_vecs\n",
    "\n",
    "def factorize_real_poles(p1, p2, T_tilde):\n",
    "    \"\"\"\n",
    "    Obtain a factor from the two real non-degenerate poles p1 and p2.\n",
    "    \n",
    "    Return a function that can be evaluated at complex values $z$.\n",
    "    \"\"\"\n",
    "    vecs = get_Potapov_vecs(T_tilde, [p1, p2])\n",
    "    u1, u2 = vecs\n",
    "    w1 = scale_vector_doubled_up(u1)\n",
    "    w2 = scale_vector_doubled_up(u2)\n",
    "    v1, v2 = real_scaling(w1, w2)\n",
    "    \n",
    "    M = v1.shape[0]/2\n",
    "    Jv = numpy.matrix(numpy.diag([1 for i in range(M)]+[-1 for i in range(M)]))\n",
    "    U = numpy.matrix([[1,1],[-1j,1j]])\n",
    "\n",
    "    V = numpy.hstack([v1,v2])*U\n",
    "    V_flat = JA*V.H*Jv\n",
    "    \n",
    "    if (V*V_flat)[0,0] < 0:\n",
    "        v1, v2 = v2, v1\n",
    "        p1, p2 = p2, p1\n",
    "        V = numpy.hstack([v1,v2])*U\n",
    "        V_flat = JA*V.H*Jv\n",
    "\n",
    "    F1 = lambda z: (numpy.matrix([[(z+p2)/(z-p1),0],\n",
    "                                 [0,(z+p1)/(z-p2)]])\n",
    "                    )\n",
    "    \n",
    "\n",
    "    I =  numpy.matrix(numpy.eye(v1.shape[0]))\n",
    "    return lambda z: (I - V*V_flat + V*la.inv(U)*F1(z)*(U)*V_flat)\n",
    "    \n",
    "def factorize_deg_real_pole(pole, T):\n",
    "    \"\"\"\n",
    "    Function for factorizing a degenerate real pole.\n",
    "    \n",
    "    It is similar to the non-degenerate real case, but the same pole appears twice.\n",
    "    \"\"\"\n",
    "\n",
    "    L = (limit(lambda z: (z-pole)*T(z),pole))\n",
    "    _, vecs = la.eig(L) \n",
    "    u1 = vecs[:,0] \n",
    "    u2 = vecs[:,1]\n",
    "    w1 = scale_vector_doubled_up(u1)\n",
    "    w2 = scale_vector_doubled_up(u2)\n",
    "    v2, v1 = real_scaling(w1, w2)\n",
    "    M = v1.shape[0]/2\n",
    "    Jv = numpy.matrix(numpy.diag([1 for i in range(M)]+[-1 for i in range(M)]))\n",
    "\n",
    "    U = numpy.matrix([[1,1],[-1j,1j]])\n",
    "    V = numpy.hstack([v1,v2])*U\n",
    "\n",
    "    V_flat = JA*V.H*Jv\n",
    "    \n",
    "    if (V*V_flat)[0,0] < 0:\n",
    "        v1, v2 = v2, v1\n",
    "        V = numpy.hstack([v1,v2])*U\n",
    "        V_flat = JA*V.H*Jv\n",
    "    \n",
    "\n",
    "    F1 = lambda z: (numpy.matrix([[(z+pole)/(z-pole),0],\n",
    "                                 [0,(z+pole)/(z-pole)]])\n",
    "                    )\n",
    "\n",
    "    return lambda z: numpy.matrix(numpy.eye(2)) - V*V_flat + V*F1(z)*V_flat"
   ]
  },
  {
   "cell_type": "markdown",
   "metadata": {},
   "source": [
    "## Generate a specific system from Example VI.1 : Enhanced squeezing via coherent feedback from page 31 of https://arxiv.org/pdf/1611.00375.pdf with added time delay."
   ]
  },
  {
   "cell_type": "markdown",
   "metadata": {},
   "source": [
    "## Example 1, using eq. 122 in the example, i.e. the squeezer and the beamsplitter are in series, but *the feedback loop has not been closed*. There are two inputs and two outputs."
   ]
  },
  {
   "cell_type": "code",
   "execution_count": 14,
   "metadata": {
    "collapsed": true
   },
   "outputs": [],
   "source": [
    "Omega_p = sympy.Matrix([1j*eps])\n",
    "Omega_m = sympy.zeros(1)\n",
    "Omega = double_up(Omega_p,Omega_m, second_row_minus=True)\n",
    "\n",
    "Phi_p = sympy.zeros(2,1)\n",
    "Phi_m = sympy.zeros(2,1)\n",
    "Phi_m[0,0] = -sympy.sqrt(1-r**2)*sympy.sqrt(kappa)\n",
    "Phi_m[1,0] = r*sympy.sqrt(kappa)\n",
    "Phi = double_up(Phi_p,Phi_m)\n",
    "\n",
    "S = sympy.Matrix([[-sympy.sqrt(1-r**2),r],[r,sympy.sqrt(1-r**2)]])"
   ]
  },
  {
   "cell_type": "code",
   "execution_count": 15,
   "metadata": {
    "collapsed": false
   },
   "outputs": [],
   "source": [
    "A,B,C,D = make_ABCD(S,Phi,Omega)"
   ]
  },
  {
   "cell_type": "code",
   "execution_count": 16,
   "metadata": {
    "collapsed": true
   },
   "outputs": [],
   "source": [
    "T_z = make_T(A,B,C,D)"
   ]
  },
  {
   "cell_type": "markdown",
   "metadata": {},
   "source": [
    "## Testing numerical values\n",
    "\n",
    "$T(z)$ Should satisfy the J-unitary property when $z$ is purely imaginary"
   ]
  },
  {
   "cell_type": "code",
   "execution_count": 17,
   "metadata": {
    "collapsed": false
   },
   "outputs": [],
   "source": [
    "T_z_num = T_z.subs({kappa:1., r:0.6, eps:1.01}).expand()"
   ]
  },
  {
   "cell_type": "code",
   "execution_count": 18,
   "metadata": {
    "collapsed": false
   },
   "outputs": [],
   "source": [
    "T = sympy.lambdify( (z), T_z_num)"
   ]
  },
  {
   "cell_type": "code",
   "execution_count": 19,
   "metadata": {
    "collapsed": true
   },
   "outputs": [],
   "source": [
    "M = A.shape[0]/2\n",
    "N = D.shape[0]/2\n",
    "JA = numpy.matrix(numpy.diag([1 for i in range(M)]+[-1 for i in range(M)]))\n",
    "JD = numpy.matrix(numpy.diag([1 for i in range(N)]+[-1 for i in range(N)]))"
   ]
  },
  {
   "cell_type": "code",
   "execution_count": 20,
   "metadata": {
    "collapsed": false
   },
   "outputs": [
    {
     "data": {
      "text/plain": [
       "True"
      ]
     },
     "execution_count": 20,
     "metadata": {},
     "output_type": "execute_result"
    }
   ],
   "source": [
    "all([check_J_unitary(T, i*1j) for i in range(-10,10)])"
   ]
  },
  {
   "cell_type": "markdown",
   "metadata": {
    "collapsed": true
   },
   "source": [
    "## Root finding"
   ]
  },
  {
   "cell_type": "code",
   "execution_count": 21,
   "metadata": {
    "collapsed": false,
    "scrolled": true
   },
   "outputs": [
    {
     "name": "stdout",
     "output_type": "stream",
     "text": [
      "(-2.94192290993-0.0430241637206j)\n"
     ]
    },
    {
     "data": {
      "text/plain": [
       "[(0.50999999986952194-1.5559772053654648e-09j),\n",
       " (-1.5099999999988023-1.7628040247902974e-11j)]"
      ]
     },
     "execution_count": 21,
     "metadata": {},
     "output_type": "execute_result"
    }
   ],
   "source": [
    "T_det = lambda z: 1./la.det(T(z))\n",
    "T_det_der = lambda z: der(T_det,z)\n",
    "poles = Roots.get_roots_rect(T_det, T_det_der, 0.,0.,5.,5.,N=10)\n",
    "\n",
    "significant_poles = Roots.purge(poles, eps = 1e-5)\n",
    "significant_poles"
   ]
  },
  {
   "cell_type": "markdown",
   "metadata": {
    "collapsed": true
   },
   "source": [
    "## Factorize function"
   ]
  },
  {
   "cell_type": "code",
   "execution_count": 22,
   "metadata": {
    "collapsed": false
   },
   "outputs": [],
   "source": [
    "vecs = get_Potapov_vecs(T,[s for s in significant_poles])\n",
    "u1, u2 = vecs\n",
    "\n",
    "w1 = scale_vector_doubled_up(u1)\n",
    "w2 = scale_vector_doubled_up(u2)\n",
    "v1, v2 = real_scaling(w1, w2)\n",
    "U = numpy.matrix([[1,1],[-1j,1j]])\n",
    "V = numpy.hstack([v1,v2])*U\n",
    "V_flat = JA*V.H*JD"
   ]
  },
  {
   "cell_type": "code",
   "execution_count": 23,
   "metadata": {
    "collapsed": false
   },
   "outputs": [
    {
     "data": {
      "text/plain": [
       "True"
      ]
     },
     "execution_count": 23,
     "metadata": {},
     "output_type": "execute_result"
    }
   ],
   "source": [
    "## Check V is doubled-up\n",
    "check_doubled_up_mat(V)"
   ]
  },
  {
   "cell_type": "markdown",
   "metadata": {},
   "source": [
    "## We should have $I = V^\\flat*V$ and $P_v = V*V^\\flat$ should be a projector."
   ]
  },
  {
   "cell_type": "code",
   "execution_count": 24,
   "metadata": {
    "collapsed": false
   },
   "outputs": [],
   "source": [
    "Pv = V*V_flat"
   ]
  },
  {
   "cell_type": "code",
   "execution_count": 25,
   "metadata": {
    "collapsed": false
   },
   "outputs": [
    {
     "name": "stdout",
     "output_type": "stream",
     "text": [
      "2.86102327716e-07\n"
     ]
    }
   ],
   "source": [
    "## Check V_flat * V is close the I.\n",
    "print la.norm(V_flat*V - numpy.matrix(numpy.eye(2)))"
   ]
  },
  {
   "cell_type": "code",
   "execution_count": 26,
   "metadata": {
    "collapsed": false
   },
   "outputs": [
    {
     "name": "stdout",
     "output_type": "stream",
     "text": [
      "2.86102327742e-07\n"
     ]
    }
   ],
   "source": [
    "## Check Pv is a projector.\n",
    "print la.norm(Pv - Pv**2)"
   ]
  },
  {
   "cell_type": "code",
   "execution_count": 27,
   "metadata": {
    "collapsed": false
   },
   "outputs": [
    {
     "data": {
      "text/plain": [
       "<matplotlib.colorbar.Colorbar at 0x10e251b10>"
      ]
     },
     "execution_count": 27,
     "metadata": {},
     "output_type": "execute_result"
    },
    {
     "data": {
      "image/png": "[encoded data removed]",
      "text/plain": [
       "<matplotlib.figure.Figure at 0x10e1d3390>"
      ]
     },
     "metadata": {},
     "output_type": "display_data"
    }
   ],
   "source": [
    "## Check what the projection looks like\n",
    "plt.imshow((V*V_flat).real, interpolation='nearest', extent=(0.5,10.5,0.5,10.5))\n",
    "plt.colorbar()"
   ]
  },
  {
   "cell_type": "code",
   "execution_count": 28,
   "metadata": {
    "collapsed": false
   },
   "outputs": [
    {
     "data": {
      "text/plain": [
       "<matplotlib.colorbar.Colorbar at 0x10e59ed10>"
      ]
     },
     "execution_count": 28,
     "metadata": {},
     "output_type": "execute_result"
    },
    {
     "data": {
      "image/png": "[encoded data removed]",
      "text/plain": [
       "<matplotlib.figure.Figure at 0x10e1cfb10>"
      ]
     },
     "metadata": {},
     "output_type": "display_data"
    }
   ],
   "source": [
    "plt.imshow((V_flat*V).real, interpolation='nearest', extent=(0.5,10.5,0.5,10.5))\n",
    "plt.colorbar()"
   ]
  },
  {
   "cell_type": "code",
   "execution_count": 29,
   "metadata": {
    "collapsed": false
   },
   "outputs": [],
   "source": [
    "## Construct factors for real roots.\n",
    "\n",
    "F1 = lambda z: (numpy.matrix([[(z + significant_poles[1])/(z-significant_poles[0]), 0],\n",
    "                            [0, (z + significant_poles[0])/(z-significant_poles[1])]])\n",
    "                )\n",
    "\n",
    "T_factorized_1 = lambda z: numpy.matrix(numpy.eye(D.shape[0])) - V*V_flat + V*la.inv(U)*F1(z)*(U)*V_flat\n",
    "\n",
    "B_constant = T(1e12)*la.inv(T_factorized_1(1e12))\n",
    "\n",
    "fact1 = lambda z: (B_constant*T_factorized_1(z)).T"
   ]
  },
  {
   "cell_type": "markdown",
   "metadata": {},
   "source": [
    "### Ensure the generated factor is J-unitary and doubled-up"
   ]
  },
  {
   "cell_type": "code",
   "execution_count": 30,
   "metadata": {
    "collapsed": false
   },
   "outputs": [
    {
     "name": "stdout",
     "output_type": "stream",
     "text": [
      "True\n",
      "True\n"
     ]
    }
   ],
   "source": [
    "print all([[check_J_unitary(T_factorized_1,i+1j*j)\n",
    "          for i in range(-5,5)] \n",
    "             for j in range(-5,5)])\n",
    "\n",
    "print all([[check_doubled_up_func(T_factorized_1,i+1j*j)\n",
    "          for i in range(-5,5)] \n",
    "             for j in range(-5,5)])"
   ]
  },
  {
   "cell_type": "markdown",
   "metadata": {},
   "source": [
    "### Check the factor equals the original transfer function"
   ]
  },
  {
   "cell_type": "code",
   "execution_count": 31,
   "metadata": {
    "collapsed": false
   },
   "outputs": [],
   "source": [
    "def plot_T_and_fact(T, fact1, z):\n",
    "    plt.title(\"Original transfer function, real part.\")\n",
    "    plt.imshow((T(z)).real, interpolation='nearest', extent=(0.5,10.5,0.5,10.5))\n",
    "    plt.colorbar()\n",
    "    plt.show()\n",
    "\n",
    "    plt.title(\"New factor, real part.\")\n",
    "    plt.imshow((fact1(z)).real, interpolation='nearest', extent=(0.5,10.5,0.5,10.5))\n",
    "    plt.colorbar()\n",
    "    plt.show()\n",
    "\n",
    "    plt.title(\"Original transfer function, imaginary part.\")\n",
    "    plt.imshow((T(z)).imag, interpolation='nearest', extent=(0.5,10.5,0.5,10.5))\n",
    "    plt.colorbar()\n",
    "    plt.show()\n",
    "\n",
    "    plt.title(\"New factor, imaginary part.\")\n",
    "    plt.imshow((fact1(z)).imag, interpolation='nearest', extent=(0.5,10.5,0.5,10.5))\n",
    "    plt.colorbar()\n",
    "    plt.show()"
   ]
  },
  {
   "cell_type": "code",
   "execution_count": 32,
   "metadata": {
    "collapsed": false
   },
   "outputs": [
    {
     "data": {
      "image/png": "[encoded data removed]",
      "text/plain": [
       "<matplotlib.figure.Figure at 0x10e3e1590>"
      ]
     },
     "metadata": {},
     "output_type": "display_data"
    },
    {
     "data": {
      "image/png": "[encoded data removed]",
      "text/plain": [
       "<matplotlib.figure.Figure at 0x10dfb6e50>"
      ]
     },
     "metadata": {},
     "output_type": "display_data"
    },
    {
     "data": {
      "image/png": "[encoded data removed]",
      "text/plain": [
       "<matplotlib.figure.Figure at 0x10ebf3ed0>"
      ]
     },
     "metadata": {},
     "output_type": "display_data"
    },
    {
     "data": {
      "image/png": "[encoded data removed]",
      "text/plain": [
       "<matplotlib.figure.Figure at 0x10ec7ff90>"
      ]
     },
     "metadata": {},
     "output_type": "display_data"
    }
   ],
   "source": [
    "plot_T_and_fact(T, fact1, 0)"
   ]
  },
  {
   "cell_type": "code",
   "execution_count": 33,
   "metadata": {
    "collapsed": false
   },
   "outputs": [
    {
     "data": {
      "image/png": "[encoded data removed]",
      "text/plain": [
       "<matplotlib.figure.Figure at 0x10eace290>"
      ]
     },
     "metadata": {},
     "output_type": "display_data"
    },
    {
     "data": {
      "image/png": "[encoded data removed]",
      "text/plain": [
       "<matplotlib.figure.Figure at 0x10eace3d0>"
      ]
     },
     "metadata": {},
     "output_type": "display_data"
    },
    {
     "data": {
      "image/png": "[encoded data removed]",
      "text/plain": [
       "<matplotlib.figure.Figure at 0x10f06be50>"
      ]
     },
     "metadata": {},
     "output_type": "display_data"
    },
    {
     "data": {
      "image/png": "[encoded data removed]",
      "text/plain": [
       "<matplotlib.figure.Figure at 0x10eea8350>"
      ]
     },
     "metadata": {},
     "output_type": "display_data"
    }
   ],
   "source": [
    "plot_T_and_fact(T, fact1, 1j+1.)"
   ]
  },
  {
   "cell_type": "markdown",
   "metadata": {},
   "source": [
    "## Example 2. Next we close the feedback loop with a time delay and"
   ]
  },
  {
   "cell_type": "markdown",
   "metadata": {},
   "source": [
    "### Feedback operation"
   ]
  },
  {
   "cell_type": "code",
   "execution_count": 34,
   "metadata": {
    "collapsed": false
   },
   "outputs": [],
   "source": [
    "T_old = sympy.lambdify(z, T_z_num)"
   ]
  },
  {
   "cell_type": "code",
   "execution_count": 35,
   "metadata": {
    "collapsed": true
   },
   "outputs": [],
   "source": [
    "P = numpy.matrix([[1,0,0,0],[0,0,1,0],[0,1,0,0],[0,0,0,1]])"
   ]
  },
  {
   "cell_type": "code",
   "execution_count": 36,
   "metadata": {
    "collapsed": false
   },
   "outputs": [
    {
     "data": {
      "text/plain": [
       "matrix([[1, 0, 0, 0],\n",
       "        [0, 0, 1, 0],\n",
       "        [0, 1, 0, 0],\n",
       "        [0, 0, 0, 1]])"
      ]
     },
     "execution_count": 36,
     "metadata": {},
     "output_type": "execute_result"
    }
   ],
   "source": [
    "P"
   ]
  },
  {
   "cell_type": "code",
   "execution_count": 37,
   "metadata": {
    "collapsed": false
   },
   "outputs": [],
   "source": [
    "T_o = P*T_z_num*P"
   ]
  },
  {
   "cell_type": "code",
   "execution_count": 38,
   "metadata": {
    "collapsed": true
   },
   "outputs": [],
   "source": [
    "T1 = sympy.lambdify(z, T_o[0:2,0:2])"
   ]
  },
  {
   "cell_type": "code",
   "execution_count": 39,
   "metadata": {
    "collapsed": true
   },
   "outputs": [],
   "source": [
    "T2 = sympy.lambdify(z, T_o[0:2,2:4])"
   ]
  },
  {
   "cell_type": "code",
   "execution_count": 40,
   "metadata": {
    "collapsed": true
   },
   "outputs": [],
   "source": [
    "T3 = sympy.lambdify(z, T_o[2:4,0:2])"
   ]
  },
  {
   "cell_type": "code",
   "execution_count": 41,
   "metadata": {
    "collapsed": true
   },
   "outputs": [],
   "source": [
    "T4 = sympy.lambdify(z, T_o[2:4, 2:4])"
   ]
  },
  {
   "cell_type": "markdown",
   "metadata": {},
   "source": [
    "### Check some properties that should be true"
   ]
  },
  {
   "cell_type": "code",
   "execution_count": 42,
   "metadata": {
    "collapsed": true
   },
   "outputs": [],
   "source": [
    "Jv = numpy.matrix([[1,0],[0,-1]])"
   ]
  },
  {
   "cell_type": "code",
   "execution_count": 43,
   "metadata": {
    "collapsed": false
   },
   "outputs": [
    {
     "name": "stdout",
     "output_type": "stream",
     "text": [
      "True\n"
     ]
    }
   ],
   "source": [
    "print la.norm(T1(0)*Jv*T1(0).H +T2(0)*Jv*T2(0).H - Jv) < 1e-5"
   ]
  },
  {
   "cell_type": "code",
   "execution_count": 44,
   "metadata": {
    "collapsed": false
   },
   "outputs": [
    {
     "name": "stdout",
     "output_type": "stream",
     "text": [
      "True\n"
     ]
    }
   ],
   "source": [
    "print la.norm(T1(0)*Jv*T3(0).H +T2(0)*Jv*T4(0).H) < 1e-5"
   ]
  },
  {
   "cell_type": "code",
   "execution_count": 45,
   "metadata": {
    "collapsed": false
   },
   "outputs": [
    {
     "name": "stdout",
     "output_type": "stream",
     "text": [
      "True\n"
     ]
    }
   ],
   "source": [
    "print la.norm(T3(0)*Jv*T3(0).H +T4(0)*Jv*T4(0).H - Jv) < 1e-5"
   ]
  },
  {
   "cell_type": "code",
   "execution_count": 46,
   "metadata": {
    "collapsed": true
   },
   "outputs": [],
   "source": [
    "I = numpy.matrix(numpy.eye(2))"
   ]
  },
  {
   "cell_type": "markdown",
   "metadata": {},
   "source": [
    "### Feedback without time delay"
   ]
  },
  {
   "cell_type": "code",
   "execution_count": 47,
   "metadata": {
    "collapsed": true
   },
   "outputs": [],
   "source": [
    "T_tilde_0 = lambda z: T1(z) + T2(z)*la.inv(I - T4(z))* T3(z)"
   ]
  },
  {
   "cell_type": "code",
   "execution_count": 48,
   "metadata": {
    "collapsed": false
   },
   "outputs": [
    {
     "name": "stdout",
     "output_type": "stream",
     "text": [
      "True\n",
      "True\n"
     ]
    }
   ],
   "source": [
    "print all([[check_J_unitary(T_tilde_0,i+1j*j)\n",
    "          for i in range(-5,5)] \n",
    "             for j in range(-5,5)])\n",
    "\n",
    "print all([[check_doubled_up_func(T_tilde_0,i+1j*j)\n",
    "          for i in range(-5,5)] \n",
    "             for j in range(-5,5)])"
   ]
  },
  {
   "cell_type": "markdown",
   "metadata": {},
   "source": [
    "### Feedback with time delay"
   ]
  },
  {
   "cell_type": "code",
   "execution_count": 52,
   "metadata": {
    "collapsed": true
   },
   "outputs": [],
   "source": [
    "t = 2"
   ]
  },
  {
   "cell_type": "code",
   "execution_count": 53,
   "metadata": {
    "collapsed": true
   },
   "outputs": [],
   "source": [
    "E = lambda z: numpy.matrix(numpy.diag(numpy.exp(2*[-t*z])))"
   ]
  },
  {
   "cell_type": "code",
   "execution_count": 54,
   "metadata": {
    "collapsed": true
   },
   "outputs": [],
   "source": [
    "T_tilde = lambda z: T1(z) + T2(z) * la.inv( E(-z) - T4(z) ) * T3(z)"
   ]
  },
  {
   "cell_type": "code",
   "execution_count": 55,
   "metadata": {
    "collapsed": false
   },
   "outputs": [
    {
     "name": "stdout",
     "output_type": "stream",
     "text": [
      "True\n",
      "True\n"
     ]
    }
   ],
   "source": [
    "print all([[check_J_unitary(T_tilde,i+1j*j)\n",
    "          for i in range(-5,5)] \n",
    "             for j in range(-5,5)])\n",
    "\n",
    "print all([[check_doubled_up_func(T_tilde,i+1j*j)\n",
    "          for i in range(-5,5)] \n",
    "             for j in range(-5,5)])"
   ]
  },
  {
   "cell_type": "markdown",
   "metadata": {},
   "source": [
    "### Plot of input-output function"
   ]
  },
  {
   "cell_type": "code",
   "execution_count": 127,
   "metadata": {
    "collapsed": false,
    "scrolled": false
   },
   "outputs": [
    {
     "data": {
      "image/png": "[encoded data removed]",
      "text/plain": [
       "<matplotlib.figure.Figure at 0x10ec67550>"
      ]
     },
     "metadata": {},
     "output_type": "display_data"
    },
    {
     "data": {
      "image/png": "[encoded data removed]",
      "text/plain": [
       "<matplotlib.figure.Figure at 0x10efd4590>"
      ]
     },
     "metadata": {},
     "output_type": "display_data"
    },
    {
     "data": {
      "image/png": "[encoded data removed]",
      "text/plain": [
       "<matplotlib.figure.Figure at 0x10f4b3f10>"
      ]
     },
     "metadata": {},
     "output_type": "display_data"
    },
    {
     "data": {
      "image/png": "[encoded data removed]",
      "text/plain": [
       "<matplotlib.figure.Figure at 0x10edd1190>"
      ]
     },
     "metadata": {},
     "output_type": "display_data"
    }
   ],
   "source": [
    "xr = numpy.linspace(-6,6,2000)\n",
    "yr = numpy.array(map(T_tilde, xr*1j))\n",
    "\n",
    "for i in range(yr.shape[1]):\n",
    "    plt.title(\"real part from port %s\" % str(i))\n",
    "    plt.plot(xr, yr[:,i,0].real)\n",
    "    plt.show()\n",
    "    plt.title(\"imaginary part from port %s\" % str(i))\n",
    "    plt.plot(xr, yr[:,i,0].imag)\n",
    "    plt.show()"
   ]
  },
  {
   "cell_type": "code",
   "execution_count": 57,
   "metadata": {
    "collapsed": false
   },
   "outputs": [],
   "source": [
    "## Analysis of squeezing spectrum.\n",
    "\n",
    "# r_squeeze = 0.5*numpy.log((numpy.abs(yr[:,0,0])+numpy.abs(yr[:,1,0]))\n",
    "#                           /(numpy.abs(yr[:,0,0])-numpy.abs(yr[:,1,0])))\n",
    "\n",
    "# plt.plot(xr, r_squeeze)\n",
    "# plt.show()\n",
    "\n",
    "\n",
    "# # r_squeeze_trunc = 0.5*numpy.log((numpy.abs(zr[:,0,0])+numpy.abs(zr[:,1,0]))\n",
    "# #                           /(numpy.abs(zr[:,0,0])-numpy.abs(zr[:,1,0])))\n",
    "\n",
    "\n",
    "# # plt.plot(xr, r_squeeze_trunc)\n",
    "# # plt.show()\n",
    "\n",
    "# which_vals = yr\n",
    "\n",
    "# N_ = which_vals[:,0,0]*which_vals[:,0,0].conj()\n",
    "# M_ = which_vals[:,0,0]*numpy.flip(which_vals[:,0,1], axis=0)\n",
    "\n",
    "# theta = 0#numpy.pi / 2\n",
    "\n",
    "# A_ = numpy.exp(2j*theta)* M_ + numpy.exp(-2j*theta)* numpy.flip(M_, axis=0).conj()\n",
    "# B_ = N_+numpy.flip(N_, axis=0)\n",
    "\n",
    "## Squeezing power spectrum\n",
    "# PP = 1 + A_ + B_\n",
    "# plt.plot(xr, PP)"
   ]
  },
  {
   "cell_type": "markdown",
   "metadata": {},
   "source": [
    "## Next, find the roots for $\\tilde T(z)$."
   ]
  },
  {
   "cell_type": "code",
   "execution_count": 61,
   "metadata": {
    "collapsed": false
   },
   "outputs": [],
   "source": [
    "# reload (Roots)\n",
    "\n",
    "T_tilde_det = lambda z: 1./la.det(T_tilde(z))\n",
    "# T_tilde_det_der = lambda z: der(T_tilde_det,z, eps=1e-15)\n",
    "\n",
    "\n",
    "# poles_tilde = Roots.get_roots_rect(T_tilde_det, T_tilde_det_der, 0.,0.,5.,5., \n",
    "#                                   N=1000, outlier_coeff=10.,\n",
    "#                                   max_steps=1,known_roots=[],verbose=False)\n",
    "\n",
    "# # significant_poles_tilde = Roots.purge(poles_tilde, eps = 1e-5)\n",
    "# # significant_poles_tilde\n",
    "# poles_tilde"
   ]
  },
  {
   "cell_type": "markdown",
   "metadata": {},
   "source": [
    "### The method above didn't work well, so we use grid + Muller search."
   ]
  },
  {
   "cell_type": "code",
   "execution_count": 62,
   "metadata": {
    "collapsed": false,
    "scrolled": true
   },
   "outputs": [
    {
     "name": "stderr",
     "output_type": "stream",
     "text": [
      "/Users/gil/anaconda/lib/python2.7/site-packages/ipykernel/__main__.py:1: RuntimeWarning: overflow encountered in exp\n",
      "  if __name__ == '__main__':\n",
      "/Users/gil/anaconda/lib/python2.7/site-packages/numpy/linalg/linalg.py:1804: RuntimeWarning: invalid value encountered in det\n",
      "  r = _umath_linalg.det(a, signature=signature)\n"
     ]
    }
   ],
   "source": [
    "poles_tilde = []\n",
    "\n",
    "for i in numpy.linspace(-10,10,100):\n",
    "    for j in numpy.linspace(-10,10,100):\n",
    "        x1,x2,x3 = i+j*1j-0.101, i+j*1j+0.101, i+j*1j+0.001\n",
    "        p = Roots.Muller(x1,x2,x3,T_tilde_det)\n",
    "        poles_tilde.append(p)"
   ]
  },
  {
   "cell_type": "code",
   "execution_count": 63,
   "metadata": {
    "collapsed": false
   },
   "outputs": [],
   "source": [
    "poles_tilde = numpy.asarray(purge(Roots.inside_boundary(poles_tilde, 0., 0., 10., 10.), 1e-1))"
   ]
  },
  {
   "cell_type": "code",
   "execution_count": 64,
   "metadata": {
    "collapsed": false
   },
   "outputs": [
    {
     "data": {
      "text/plain": [
       "array([-1.50999931 -9.79157347e-07j, -0.11168135 -9.42517756e+00j,\n",
       "       -0.11168135 +9.42517756e+00j, -0.11144079 -3.14195389e+00j,\n",
       "       -0.11144079 +3.14195389e+00j,  0.51000000 +5.11806044e-10j,\n",
       "       -0.11204092 -2.29375751e-04j, -0.11115306 -6.28331596e+00j,\n",
       "       -0.11178320 +6.28309085e+00j])"
      ]
     },
     "execution_count": 64,
     "metadata": {},
     "output_type": "execute_result"
    }
   ],
   "source": [
    "poles_tilde"
   ]
  },
  {
   "cell_type": "code",
   "execution_count": 214,
   "metadata": {
    "collapsed": false
   },
   "outputs": [
    {
     "data": {
      "text/plain": [
       "<matplotlib.text.Text at 0x10fa6e9d0>"
      ]
     },
     "execution_count": 214,
     "metadata": {},
     "output_type": "execute_result"
    },
    {
     "data": {
      "image/png": "[encoded data removed]",
      "text/plain": [
       "<matplotlib.figure.Figure at 0x11002a910>"
      ]
     },
     "metadata": {},
     "output_type": "display_data"
    }
   ],
   "source": [
    "plt.figure(figsize=(10,5))\n",
    "plt.scatter(poles_tilde.real,poles_tilde.imag, )\n",
    "plt.title(\"Poles\", fontsize=18)\n",
    "plt.xlim(-2,1)\n",
    "plt.ylim(-10,10)\n",
    "plt.xlabel(\"Real part (kappa)\", fontsize=18)\n",
    "plt.ylabel(\"Imaginary part (omega)\", fontsize=18)"
   ]
  },
  {
   "cell_type": "markdown",
   "metadata": {},
   "source": [
    "### Organize the poles into different categories"
   ]
  },
  {
   "cell_type": "code",
   "execution_count": 129,
   "metadata": {
    "collapsed": true
   },
   "outputs": [],
   "source": [
    "real_cutoff = 1e-3"
   ]
  },
  {
   "cell_type": "code",
   "execution_count": 130,
   "metadata": {
    "collapsed": true
   },
   "outputs": [],
   "source": [
    "complex_poles = [p for p in poles_tilde if abs(p.imag) >= real_cutoff]"
   ]
  },
  {
   "cell_type": "code",
   "execution_count": 131,
   "metadata": {
    "collapsed": true
   },
   "outputs": [],
   "source": [
    "real_poles = [p.real for p in poles_tilde if abs(p.imag) < real_cutoff]"
   ]
  },
  {
   "cell_type": "code",
   "execution_count": 132,
   "metadata": {
    "collapsed": false
   },
   "outputs": [],
   "source": [
    "pos_complex_poles = [p for p in complex_poles if p.imag > real_cutoff]"
   ]
  },
  {
   "cell_type": "code",
   "execution_count": 133,
   "metadata": {
    "collapsed": true
   },
   "outputs": [],
   "source": [
    "neg_complex_poles =  [p for p in complex_poles if p.imag < -real_cutoff]"
   ]
  },
  {
   "cell_type": "code",
   "execution_count": 134,
   "metadata": {
    "collapsed": false
   },
   "outputs": [
    {
     "data": {
      "image/png": "[encoded data removed]",
      "text/latex": [
       "$$\\left [ -1.50999931328, \\quad 0.509999999368, \\quad -0.112040922724\\right ]$$"
      ],
      "text/plain": [
       "[-1.50999931328, 0.509999999368, -0.112040922724]"
      ]
     },
     "execution_count": 134,
     "metadata": {},
     "output_type": "execute_result"
    }
   ],
   "source": [
    "real_poles"
   ]
  },
  {
   "cell_type": "markdown",
   "metadata": {
    "collapsed": true
   },
   "source": [
    "### Factorize the (degenerate) complex poles"
   ]
  },
  {
   "cell_type": "code",
   "execution_count": 80,
   "metadata": {
    "collapsed": false
   },
   "outputs": [],
   "source": [
    "which_poles = pos_complex_poles"
   ]
  },
  {
   "cell_type": "code",
   "execution_count": 81,
   "metadata": {
    "collapsed": false
   },
   "outputs": [],
   "source": [
    "which_vecs = factorize_complex_poles(which_poles, T_tilde)"
   ]
  },
  {
   "cell_type": "code",
   "execution_count": 82,
   "metadata": {
    "collapsed": false
   },
   "outputs": [],
   "source": [
    "T_c = lambda z: complex_prod_deg(z, which_poles, which_vecs, 2)"
   ]
  },
  {
   "cell_type": "code",
   "execution_count": 136,
   "metadata": {
    "collapsed": true
   },
   "outputs": [],
   "source": [
    "### Check the resulting function is J-unitary and doubled-up."
   ]
  },
  {
   "cell_type": "code",
   "execution_count": 135,
   "metadata": {
    "collapsed": false
   },
   "outputs": [
    {
     "name": "stdout",
     "output_type": "stream",
     "text": [
      "True\n",
      "True\n"
     ]
    }
   ],
   "source": [
    "print all([[check_J_unitary(T_c,i+1j*j)\n",
    "          for i in range(-5,5)] \n",
    "             for j in range(-5,5)])\n",
    "\n",
    "print all([[check_doubled_up_func(T_c,i+1j*j)\n",
    "          for i in range(-5,5)] \n",
    "             for j in range(-5,5)])"
   ]
  },
  {
   "cell_type": "code",
   "execution_count": 137,
   "metadata": {
    "collapsed": true
   },
   "outputs": [],
   "source": [
    "### The example has both degenerate and non-degenerate real poles \n",
    "### They are seperated below."
   ]
  },
  {
   "cell_type": "code",
   "execution_count": 146,
   "metadata": {
    "collapsed": false
   },
   "outputs": [
    {
     "name": "stdout",
     "output_type": "stream",
     "text": [
      "1.2792340041\n",
      "0.617554756085\n",
      "3.67766338621e-18\n"
     ]
    }
   ],
   "source": [
    "deg_cutoff = 1e-3\n",
    "deg_real_poles = []\n",
    "non_deg_real_poles = []\n",
    "\n",
    "for pole in real_poles:\n",
    "    L = limit(lambda z: (z-pole)*T_tilde(z),pole, N=1000, eps=deg_cutoff*deg_cutoff)\n",
    "    vals, vecs = la.eig(L)\n",
    "    print la.norm(vals)\n",
    "    if la.norm(vals) > deg_cutoff:\n",
    "        non_deg_real_poles.append(pole)\n",
    "    else:\n",
    "        deg_real_poles.append(pole)"
   ]
  },
  {
   "cell_type": "code",
   "execution_count": 147,
   "metadata": {
    "collapsed": false
   },
   "outputs": [
    {
     "data": {
      "image/png": "[encoded data removed]",
      "text/latex": [
       "$$\\left [ -1.50999931328, \\quad 0.509999999368\\right ]$$"
      ],
      "text/plain": [
       "[-1.50999931328, 0.509999999368]"
      ]
     },
     "execution_count": 147,
     "metadata": {},
     "output_type": "execute_result"
    }
   ],
   "source": [
    "non_deg_real_poles"
   ]
  },
  {
   "cell_type": "code",
   "execution_count": 148,
   "metadata": {
    "collapsed": false
   },
   "outputs": [
    {
     "data": {
      "image/png": "[encoded data removed]",
      "text/latex": [
       "$$\\left [ -0.112040922724\\right ]$$"
      ],
      "text/plain": [
       "[-0.112040922724]"
      ]
     },
     "execution_count": 148,
     "metadata": {},
     "output_type": "execute_result"
    }
   ],
   "source": [
    "deg_real_poles"
   ]
  },
  {
   "cell_type": "code",
   "execution_count": 149,
   "metadata": {
    "collapsed": false
   },
   "outputs": [],
   "source": [
    "### Assume there are only two degenerate poles. Pair them together"
   ]
  },
  {
   "cell_type": "code",
   "execution_count": 150,
   "metadata": {
    "collapsed": true
   },
   "outputs": [],
   "source": [
    "p1, p2 = non_deg_real_poles\n",
    "p3 = deg_real_poles[0]"
   ]
  },
  {
   "cell_type": "code",
   "execution_count": 100,
   "metadata": {
    "collapsed": false
   },
   "outputs": [],
   "source": [
    "### Factor out the non-degenerate poles.\n",
    "T_factorized_1 = factorize_real_poles(p1, p2, T_tilde)"
   ]
  },
  {
   "cell_type": "code",
   "execution_count": 151,
   "metadata": {
    "collapsed": false
   },
   "outputs": [
    {
     "name": "stdout",
     "output_type": "stream",
     "text": [
      "True\n",
      "True\n"
     ]
    }
   ],
   "source": [
    "### Check J-unitary and doubled-up properties.\n",
    "print all([[check_J_unitary(T_factorized_1,i+1j*j)\n",
    "          for i in range(-5,5)] \n",
    "             for j in range(-5,5)])\n",
    "\n",
    "print all([[check_doubled_up_func(T_factorized_1,i+1j*j)\n",
    "          for i in range(-5,5)] \n",
    "             for j in range(-5,5)])"
   ]
  },
  {
   "cell_type": "code",
   "execution_count": 152,
   "metadata": {
    "collapsed": true
   },
   "outputs": [],
   "source": [
    "### Detach the factor T_factorized_1\n",
    "T_tilde_2 = lambda z: T_tilde(z)*la.inv(T_factorized_1(z))"
   ]
  },
  {
   "cell_type": "markdown",
   "metadata": {
    "collapsed": true
   },
   "source": [
    "### Check to see poles are removed"
   ]
  },
  {
   "cell_type": "code",
   "execution_count": 157,
   "metadata": {
    "collapsed": false
   },
   "outputs": [
    {
     "data": {
      "text/plain": [
       "matrix([[ 59849.98962415, -59851.9021455 ],\n",
       "        [-59851.9021455 ,  59849.98962363]])"
      ]
     },
     "execution_count": 157,
     "metadata": {},
     "output_type": "execute_result"
    }
   ],
   "source": [
    "## Values should be large near a pole\n",
    "T_tilde(p1+1e-5)"
   ]
  },
  {
   "cell_type": "code",
   "execution_count": 158,
   "metadata": {
    "collapsed": false
   },
   "outputs": [
    {
     "data": {
      "text/plain": [
       "matrix([[-1.23813295 +1.26103887e-12j, -0.04110124 +1.26100230e-12j],\n",
       "        [-0.04110141 -1.26103114e-12j, -1.23813312 -1.26102510e-12j]])"
      ]
     },
     "execution_count": 158,
     "metadata": {},
     "output_type": "execute_result"
    }
   ],
   "source": [
    "## Values should be O(1).\n",
    "T_tilde_2(p1+1e-5)"
   ]
  },
  {
   "cell_type": "code",
   "execution_count": 159,
   "metadata": {
    "collapsed": false
   },
   "outputs": [
    {
     "data": {
      "text/plain": [
       "matrix([[ 30879.48173785,  30879.79357648],\n",
       "        [ 30879.79357648,  30879.48173801]])"
      ]
     },
     "execution_count": 159,
     "metadata": {},
     "output_type": "execute_result"
    }
   ],
   "source": [
    "## Values should be large near a pole\n",
    "T_tilde(p2+1e-5)"
   ]
  },
  {
   "cell_type": "code",
   "execution_count": 160,
   "metadata": {
    "collapsed": false
   },
   "outputs": [
    {
     "data": {
      "text/plain": [
       "matrix([[ -6.17579461e-01 +7.29769275e-13j,\n",
       "          -1.98916932e-05 -7.29760815e-13j],\n",
       "        [ -2.00471768e-05 +7.29760599e-13j,\n",
       "          -6.17579306e-01 -7.29791045e-13j]])"
      ]
     },
     "execution_count": 160,
     "metadata": {},
     "output_type": "execute_result"
    }
   ],
   "source": [
    "## Values should be O(1).\n",
    "T_tilde_2(p2+1e-5)"
   ]
  },
  {
   "cell_type": "code",
   "execution_count": 112,
   "metadata": {
    "collapsed": false
   },
   "outputs": [],
   "source": [
    "### factorize the degenerate real pole p3.\n",
    "T_factorized_2 = factorize_deg_real_pole(p3, T_tilde_2)"
   ]
  },
  {
   "cell_type": "code",
   "execution_count": 113,
   "metadata": {
    "collapsed": true
   },
   "outputs": [],
   "source": [
    "### Detach the degenerate real pole p3.\n",
    "T_tilde_3 = lambda z: T_tilde_2(z) * la.inv(T_factorized_2(z))"
   ]
  },
  {
   "cell_type": "code",
   "execution_count": 170,
   "metadata": {
    "collapsed": false
   },
   "outputs": [
    {
     "name": "stdout",
     "output_type": "stream",
     "text": [
      "True\n",
      "True\n"
     ]
    }
   ],
   "source": [
    "### Check J-unitary and doubled-up properties.\n",
    "print all([[check_J_unitary(T_factorized_2,i+1j*j)\n",
    "          for i in range(-5,5)] \n",
    "             for j in range(-5,5)])\n",
    "\n",
    "print all([[check_doubled_up_func(T_factorized_2,i+1j*j)\n",
    "          for i in range(-5,5)] \n",
    "             for j in range(-5,5)])"
   ]
  },
  {
   "cell_type": "markdown",
   "metadata": {
    "collapsed": true
   },
   "source": [
    "### Ensure the degenerate real root is removed"
   ]
  },
  {
   "cell_type": "code",
   "execution_count": 169,
   "metadata": {
    "collapsed": false
   },
   "outputs": [
    {
     "data": {
      "text/plain": [
       "matrix([[ -4.81643217e+02 -3.01067839e-14j,\n",
       "          -2.19628804e-04 +3.83366332e-14j],\n",
       "        [ -2.19628782e-04 -2.20795271e-14j,\n",
       "          -4.81643217e+02 +3.27897736e-15j]])"
      ]
     },
     "execution_count": 169,
     "metadata": {},
     "output_type": "execute_result"
    }
   ],
   "source": [
    "### Sholud be large\n",
    "T_tilde_2(p3+1e-6)"
   ]
  },
  {
   "cell_type": "code",
   "execution_count": 168,
   "metadata": {
    "collapsed": false
   },
   "outputs": [
    {
     "data": {
      "text/plain": [
       "matrix([[  2.14941707e-03 +1.34356980e-19j,\n",
       "           1.03772500e-09 +2.41416534e-19j],\n",
       "        [  9.22538869e-10 +5.11034225e-19j,\n",
       "           2.14941728e-03 -1.46328205e-20j]])"
      ]
     },
     "execution_count": 168,
     "metadata": {},
     "output_type": "execute_result"
    }
   ],
   "source": [
    "### Should be O(1).\n",
    "T_tilde_3(p3+1e-6)"
   ]
  },
  {
   "cell_type": "markdown",
   "metadata": {},
   "source": [
    "### Generate and plot the factorized functions."
   ]
  },
  {
   "cell_type": "code",
   "execution_count": 173,
   "metadata": {
    "collapsed": true
   },
   "outputs": [],
   "source": [
    "z0 = 0 ## Point at which we specify the new function should equal the original.\n",
    "T_fact = lambda z: (T_tilde(z0)\n",
    "                    * la.inv(T_factorized_2(z0))*T_factorized_2(z)\n",
    "                    * la.inv(T_factorized_1(z0))*T_factorized_1(z)\n",
    "                    * T_c(z))"
   ]
  },
  {
   "cell_type": "code",
   "execution_count": 218,
   "metadata": {
    "collapsed": false,
    "scrolled": false
   },
   "outputs": [
    {
     "data": {
      "image/png": "[encoded data removed]",
      "text/plain": [
       "<matplotlib.figure.Figure at 0x110c4c110>"
      ]
     },
     "metadata": {},
     "output_type": "display_data"
    }
   ],
   "source": [
    "\n",
    "xr = numpy.linspace(-20,20,501)\n",
    "xr_im = xr*1j\n",
    "yr = numpy.array(map(T_tilde, xr_im))\n",
    "zr = numpy.array(map(T_fact, xr_im))\n",
    "\n",
    "f, axarr = plt.subplots(2, 2, figsize=(15,7.5))\n",
    "\n",
    "l1, = axarr[0, 0].plot(xr, yr[:,0,0].real)\n",
    "l2, = axarr[0, 0].plot(xr, zr[:,0,0].real)\n",
    "axarr[0, 0].set_title('Re(T[0,0])',fontsize= 24)\n",
    "\n",
    "axarr[0, 1].plot(xr, yr[:,0,0].imag)\n",
    "axarr[0, 1].plot(xr, zr[:,0,0].imag)\n",
    "axarr[0, 1].set_title('Im(T[0,0])' ,fontsize= 24)\n",
    "\n",
    "axarr[1, 0].plot(xr, yr[:,1,0].real)\n",
    "axarr[1, 0].plot(xr, zr[:,1,0].real)\n",
    "axarr[1, 0].set_title('Re(T[1,0])',fontsize= 24 )\n",
    "\n",
    "axarr[1, 1].plot(xr, yr[:,1,0].imag)\n",
    "axarr[1, 1].plot(xr, zr[:,1,0].imag)\n",
    "axarr[1, 1].set_title('Im(T[1,0])',fontsize= 24 )\n",
    "\n",
    "plt.legend([l1, l2],[\"Original TF\", \"Approximated TF\"])\n",
    "\n",
    "\n",
    "for ax in axarr.flat:\n",
    "    ax.set(xlabel='Frequency', ylabel='Input-output relation', )\n",
    "# Hide x labels and tick labels for top plots and y ticks for right plots.\n",
    "for ax in axarr.flat:\n",
    "    ax.label_outer()\n",
    "    "
   ]
  },
  {
   "cell_type": "code",
   "execution_count": null,
   "metadata": {
    "collapsed": true
   },
   "outputs": [],
   "source": []
  },
  {
   "cell_type": "code",
   "execution_count": null,
   "metadata": {
    "collapsed": true
   },
   "outputs": [],
   "source": []
  },
  {
   "cell_type": "code",
   "execution_count": null,
   "metadata": {
    "collapsed": true
   },
   "outputs": [],
   "source": []
  },
  {
   "cell_type": "code",
   "execution_count": null,
   "metadata": {
    "collapsed": true
   },
   "outputs": [],
   "source": []
  },
  {
   "cell_type": "code",
   "execution_count": null,
   "metadata": {
    "collapsed": true
   },
   "outputs": [],
   "source": []
  }
 ],
 "metadata": {
  "anaconda-cloud": {},
  "kernelspec": {
   "display_name": "Python 2",
   "language": "python",
   "name": "python2"
  },
  "widgets": {
   "state": {},
   "version": "1.1.2"
  }
 },
 "nbformat": 4,
 "nbformat_minor": 0
}
